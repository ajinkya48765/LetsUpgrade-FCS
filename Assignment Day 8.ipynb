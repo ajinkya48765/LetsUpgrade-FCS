{
 "cells": [
  {
   "cell_type": "markdown",
   "metadata": {},
   "source": [
    "# Assignment Day 8"
   ]
  },
  {
   "cell_type": "code",
   "execution_count": null,
   "metadata": {},
   "outputs": [],
   "source": [
    "def split(elem):\n",
    "    return [char for char in elem]\n",
    "elem = input ( \"Input  :  \" )\n",
    "listt = split (elem)\n",
    "count_0 = listt.count('0')\n",
    "count_1 = listt.count('1')\n",
    "if (count_0 + count_1) != len(listt) :\n",
    "    print(\"Invalid Characters please enter 1's and 0's . . .\")\n",
    "elif count_0 <=1 or count_1<=1 :\n",
    "    print(\"Yes\")\n",
    "else: \n",
    "    print(\"No\")"
   ]
  }
 ],
 "metadata": {
  "kernelspec": {
   "display_name": "Python 3",
   "language": "python",
   "name": "python3"
  },
  "language_info": {
   "codemirror_mode": {
    "name": "ipython",
    "version": 3
   },
   "file_extension": ".py",
   "mimetype": "text/x-python",
   "name": "python",
   "nbconvert_exporter": "python",
   "pygments_lexer": "ipython3",
   "version": "3.7.4"
  }
 },
 "nbformat": 4,
 "nbformat_minor": 2
}
