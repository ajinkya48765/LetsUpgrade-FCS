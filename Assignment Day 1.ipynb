{
 "cells": [
  {
   "cell_type": "markdown",
   "metadata": {},
   "source": [
    "# List Operations"
   ]
  },
  {
   "cell_type": "code",
   "execution_count": 25,
   "metadata": {},
   "outputs": [
    {
     "name": "stdout",
     "output_type": "stream",
     "text": [
      "['pune', 'Ahmednagar', 100, 23.6, 'engineer']\n"
     ]
    }
   ],
   "source": [
    "list1 = [\"pune\", \"Ahmednagar\", 100, 23.6, \"engineer\"]\n",
    "list3 = [21, 3, 65]\n",
    "print(list1)"
   ]
  },
  {
   "cell_type": "code",
   "execution_count": 26,
   "metadata": {},
   "outputs": [
    {
     "name": "stdout",
     "output_type": "stream",
     "text": [
      "['pune', 'Ahmednagar', 100, 23.6, 'engineer', 'pune']\n"
     ]
    }
   ],
   "source": [
    "#Using \"append\" function . . .\n",
    "\n",
    "list1.append(\"pune\")\n",
    "print(list1)"
   ]
  },
  {
   "cell_type": "code",
   "execution_count": 27,
   "metadata": {},
   "outputs": [
    {
     "name": "stdout",
     "output_type": "stream",
     "text": [
      "listt  :  ['pune', 'Ahmednagar', 100, 23.6, 'engineer', 'pune']\n",
      "copy_list : ['pune', 'Ahmednagar', 100, 23.6, 'engineer', 'pune']\n"
     ]
    }
   ],
   "source": [
    "#Using \"copy\" function . . .\n",
    "\n",
    "list2=list1.copy()\n",
    "print(\"listt  :  {}\".format(list1))\n",
    "print(\"copy_list : {}\".format(list2))"
   ]
  },
  {
   "cell_type": "code",
   "execution_count": 28,
   "metadata": {},
   "outputs": [
    {
     "name": "stdout",
     "output_type": "stream",
     "text": [
      "Number of elements in listt is  :  2\n"
     ]
    }
   ],
   "source": [
    "#counting number of occurances of pune\n",
    "\n",
    "list_count=list1.count(\"pune\")\n",
    "print(\"Number of elements in listt is  :  {}\".format(list_count))"
   ]
  },
  {
   "cell_type": "code",
   "execution_count": 29,
   "metadata": {},
   "outputs": [
    {
     "name": "stdout",
     "output_type": "stream",
     "text": [
      "['pune', 'Ahmednagar', 100, 23.6, 'engineer', 'pune', 21, 3, 65]\n"
     ]
    }
   ],
   "source": [
    "#Using \"extend\" function . . .\n",
    "\n",
    "list1.extend(list3)\n",
    "print(list1)"
   ]
  },
  {
   "cell_type": "code",
   "execution_count": 31,
   "metadata": {},
   "outputs": [
    {
     "name": "stdout",
     "output_type": "stream",
     "text": [
      "1\n",
      "0\n",
      "7\n",
      "3\n"
     ]
    }
   ],
   "source": [
    "#Using \"index\" function . . .\n",
    "\n",
    "print(\"{}\".format(list1.index(\"Ahmednagar\")))\n",
    "print(\"{}\".format(list1.index(\"pune\")))\n",
    "print(\"{}\".format(list1.index(3)))\n",
    "print(\"{}\".format(list1.index(23.6)))"
   ]
  },
  {
   "cell_type": "code",
   "execution_count": 32,
   "metadata": {},
   "outputs": [
    {
     "name": "stdout",
     "output_type": "stream",
     "text": [
      "[21, 3, 65, '404 error']\n"
     ]
    }
   ],
   "source": [
    "#Using \"insert\" function . . .\n",
    "\n",
    "list3.insert(3,\"404 error\")\n",
    "print(list3)"
   ]
  },
  {
   "cell_type": "code",
   "execution_count": 33,
   "metadata": {},
   "outputs": [
    {
     "name": "stdout",
     "output_type": "stream",
     "text": [
      "list3 Before pop  :  [21, 3, 65, '404 error']\n",
      "list3 After pop  :  [21, 3, 65]\n"
     ]
    }
   ],
   "source": [
    "#Using \"pop\" function . . .\n",
    "\n",
    "print(\"list3 Before pop  :  {}\".format(list3))\n",
    "list3.pop()\n",
    "print(\"list3 After pop  :  {}\".format(list3))"
   ]
  },
  {
   "cell_type": "code",
   "execution_count": 34,
   "metadata": {},
   "outputs": [
    {
     "name": "stdout",
     "output_type": "stream",
     "text": [
      "list1 Before removing  :  ['pune', 'Ahmednagar', 100, 23.6, 'engineer', 'pune', 21, 3, 65]\n",
      "list1 After removing 23.6  :  ['pune', 'Ahmednagar', 100, 'engineer', 'pune', 21, 3, 65]\n"
     ]
    }
   ],
   "source": [
    "#Using \"remove\" function . . .\n",
    "\n",
    "print(\"list1 Before removing  :  {}\".format(list1))\n",
    "list1.remove(23.6)\n",
    "print(\"list1 After removing 23.6  :  {}\".format(list1))"
   ]
  },
  {
   "cell_type": "code",
   "execution_count": 35,
   "metadata": {},
   "outputs": [
    {
     "name": "stdout",
     "output_type": "stream",
     "text": [
      "list1 Before reversal  :  ['pune', 'Ahmednagar', 100, 'engineer', 'pune', 21, 3, 65]\n",
      "list1 After reversal  :  [65, 3, 21, 'pune', 'engineer', 100, 'Ahmednagar', 'pune']\n"
     ]
    }
   ],
   "source": [
    "#Using \"reverse\" function . . .\n",
    "\n",
    "print(\"list1 Before reversal  :  {}\".format(list1))\n",
    "list1.reverse()\n",
    "print(\"list1 After reversal  :  {}\".format(list1))\n"
   ]
  },
  {
   "cell_type": "code",
   "execution_count": 36,
   "metadata": {},
   "outputs": [
    {
     "name": "stdout",
     "output_type": "stream",
     "text": [
      "list3 Before pop  :  [21, 3, 65]\n",
      "list3 After pop  :  [3, 21, 65]\n"
     ]
    }
   ],
   "source": [
    "#Using \"sort\" function . . .\n",
    "\n",
    "print(\"list3 Before pop  :  {}\".format(list3))\n",
    "list3.sort()\n",
    "print(\"list3 After pop  :  {}\".format(list3))"
   ]
  },
  {
   "cell_type": "code",
   "execution_count": 41,
   "metadata": {},
   "outputs": [
    {
     "name": "stdout",
     "output_type": "stream",
     "text": [
      "[]\n"
     ]
    }
   ],
   "source": [
    "#Using \"clear\" function . . .\n",
    "\n",
    "list1.clear()\n",
    "print(list1)"
   ]
  },
  {
   "cell_type": "markdown",
   "metadata": {},
   "source": [
    "# Set Operations"
   ]
  },
  {
   "cell_type": "code",
   "execution_count": 97,
   "metadata": {},
   "outputs": [],
   "source": [
    "tup1={\"hi\", \"hello\", \"ram ram\"}\n",
    "tup2={\"raabta\",2017, 3.14}"
   ]
  },
  {
   "cell_type": "code",
   "execution_count": 98,
   "metadata": {},
   "outputs": [
    {
     "data": {
      "text/plain": [
       "{'hello', 'hi', 'namste', 'ram ram'}"
      ]
     },
     "execution_count": 98,
     "metadata": {},
     "output_type": "execute_result"
    }
   ],
   "source": [
    "#Using \"add\" function . . .\n",
    "\n",
    "tup1.add(\"namste\")\n",
    "tup1"
   ]
  },
  {
   "cell_type": "code",
   "execution_count": 99,
   "metadata": {},
   "outputs": [
    {
     "data": {
      "text/plain": [
       "{'hello', 'hi', 'namste', 'ram ram'}"
      ]
     },
     "execution_count": 99,
     "metadata": {},
     "output_type": "execute_result"
    }
   ],
   "source": [
    "#Using \"copy\" function . . .\n",
    "\n",
    "tup3=tup1.copy()\n",
    "tup3"
   ]
  },
  {
   "cell_type": "code",
   "execution_count": 100,
   "metadata": {},
   "outputs": [
    {
     "data": {
      "text/plain": [
       "{'hii2'}"
      ]
     },
     "execution_count": 100,
     "metadata": {},
     "output_type": "execute_result"
    }
   ],
   "source": [
    "#Using \"difference\" function . . .\n",
    "\n",
    "tup1.add(\"hii2\")\n",
    "\n",
    "tup1.difference(tup3)\n"
   ]
  },
  {
   "cell_type": "code",
   "execution_count": 101,
   "metadata": {},
   "outputs": [
    {
     "name": "stdout",
     "output_type": "stream",
     "text": [
      "{'hii2'}\n"
     ]
    },
    {
     "data": {
      "text/plain": [
       "' difference between difference and defference_update is that difference \\nreturns wanted values while difference update removes unwanted values from main set\\n'"
      ]
     },
     "execution_count": 101,
     "metadata": {},
     "output_type": "execute_result"
    }
   ],
   "source": [
    "#Using \"difference_update\" function . . .\n",
    "\n",
    "tup1.difference_update(tup3)\n",
    "print (tup1)\n",
    "\n",
    "\"\"\" difference between difference and defference_update is that difference \n",
    "returns wanted values while difference update removes unwanted values from main set\n",
    "\"\"\""
   ]
  },
  {
   "cell_type": "code",
   "execution_count": 102,
   "metadata": {},
   "outputs": [
    {
     "data": {
      "text/plain": [
       "{'hello', 'ram ram'}"
      ]
     },
     "execution_count": 102,
     "metadata": {},
     "output_type": "execute_result"
    }
   ],
   "source": [
    "#Using \"discard\" function . . .\n",
    "\n",
    "tup1={\"hi\", \"hello\", \"ram ram\"}\n",
    "tup1.discard(\"hi\")\n",
    "tup1"
   ]
  },
  {
   "cell_type": "code",
   "execution_count": 103,
   "metadata": {},
   "outputs": [
    {
     "data": {
      "text/plain": [
       "{3}"
      ]
     },
     "execution_count": 103,
     "metadata": {},
     "output_type": "execute_result"
    }
   ],
   "source": [
    "#Using \"intersection\" function . . .\n",
    "\n",
    "tup1={1,2,3}\n",
    "tup2={3,4,5,6}\n",
    "\n",
    "tup1.intersection(tup2)"
   ]
  },
  {
   "cell_type": "code",
   "execution_count": 116,
   "metadata": {},
   "outputs": [
    {
     "name": "stdout",
     "output_type": "stream",
     "text": [
      "{3}\n"
     ]
    }
   ],
   "source": [
    "#Using \"intersection_update\" function . . .\n",
    "\n",
    "tup1={1,2,3}\n",
    "tup2={3,4,5,6}\n",
    "\n",
    "tup1.intersection_update(tup2)\n",
    "\n",
    "print(tup1)"
   ]
  },
  {
   "cell_type": "code",
   "execution_count": 117,
   "metadata": {},
   "outputs": [
    {
     "data": {
      "text/plain": [
       "False"
      ]
     },
     "execution_count": 117,
     "metadata": {},
     "output_type": "execute_result"
    }
   ],
   "source": [
    "#Using \"isdisjoint\" function . . .\n",
    "\n",
    "tup1={1,2,3}\n",
    "\n",
    "tup1.isdisjoint(tup2)\n"
   ]
  },
  {
   "cell_type": "code",
   "execution_count": 118,
   "metadata": {},
   "outputs": [
    {
     "data": {
      "text/plain": [
       "False"
      ]
     },
     "execution_count": 118,
     "metadata": {},
     "output_type": "execute_result"
    }
   ],
   "source": [
    "#Using \"issubset\" function . . .\n",
    "\n",
    "tup1.issubset(tup2)"
   ]
  },
  {
   "cell_type": "code",
   "execution_count": 119,
   "metadata": {},
   "outputs": [
    {
     "data": {
      "text/plain": [
       "False"
      ]
     },
     "execution_count": 119,
     "metadata": {},
     "output_type": "execute_result"
    }
   ],
   "source": [
    "#Using \"issuperset\" function . . .\n",
    "\n",
    "tup1.issuperset(tup2)"
   ]
  },
  {
   "cell_type": "code",
   "execution_count": 120,
   "metadata": {},
   "outputs": [
    {
     "name": "stdout",
     "output_type": "stream",
     "text": [
      "1\n"
     ]
    }
   ],
   "source": [
    "#Using \"pop\" function . . .\n",
    "\n",
    "popped_element=tup1.pop()\n",
    "print(popped_element)"
   ]
  },
  {
   "cell_type": "code",
   "execution_count": 121,
   "metadata": {},
   "outputs": [
    {
     "data": {
      "text/plain": [
       "{1, 3}"
      ]
     },
     "execution_count": 121,
     "metadata": {},
     "output_type": "execute_result"
    }
   ],
   "source": [
    "#Using \"remove\" function . . .\n",
    "\n",
    "tup1={1,2,3}\n",
    "\n",
    "tup1.remove(2)\n",
    "tup1"
   ]
  },
  {
   "cell_type": "code",
   "execution_count": 123,
   "metadata": {},
   "outputs": [
    {
     "data": {
      "text/plain": [
       "{1, 3, 4, 5, 6}"
      ]
     },
     "execution_count": 123,
     "metadata": {},
     "output_type": "execute_result"
    }
   ],
   "source": [
    "#Using \"union\" function . . .\n",
    "\n",
    "tup1.union(tup2)"
   ]
  },
  {
   "cell_type": "code",
   "execution_count": null,
   "metadata": {},
   "outputs": [],
   "source": []
  },
  {
   "cell_type": "code",
   "execution_count": null,
   "metadata": {},
   "outputs": [],
   "source": []
  },
  {
   "cell_type": "code",
   "execution_count": null,
   "metadata": {},
   "outputs": [],
   "source": []
  },
  {
   "cell_type": "code",
   "execution_count": null,
   "metadata": {},
   "outputs": [],
   "source": []
  },
  {
   "cell_type": "code",
   "execution_count": null,
   "metadata": {},
   "outputs": [],
   "source": [
    "#Using \"clear\" function . . .\n",
    "\n",
    "tup1.clear()\n",
    "tup1"
   ]
  }
 ],
 "metadata": {
  "kernelspec": {
   "display_name": "Python 3",
   "language": "python",
   "name": "python3"
  },
  "language_info": {
   "codemirror_mode": {
    "name": "ipython",
    "version": 3
   },
   "file_extension": ".py",
   "mimetype": "text/x-python",
   "name": "python",
   "nbconvert_exporter": "python",
   "pygments_lexer": "ipython3",
   "version": "3.7.4"
  }
 },
 "nbformat": 4,
 "nbformat_minor": 2
}
