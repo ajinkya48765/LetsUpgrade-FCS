{
 "cells": [
  {
   "cell_type": "markdown",
   "metadata": {},
   "source": [
    "# List"
   ]
  },
  {
   "cell_type": "code",
   "execution_count": 5,
   "metadata": {},
   "outputs": [
    {
     "name": "stdout",
     "output_type": "stream",
     "text": [
      "['pune', 'Ahmednagar', 100, 23.6, 'engineer']\n"
     ]
    }
   ],
   "source": [
    "list1 = [\"pune\", \"Ahmednagar\", 100, 23.6, \"engineer\"]\n",
    "list3 = [\"Chennai\", 3, 65]\n",
    "print(list1)"
   ]
  },
  {
   "cell_type": "code",
   "execution_count": 6,
   "metadata": {},
   "outputs": [
    {
     "name": "stdout",
     "output_type": "stream",
     "text": [
      "['pune', 'Ahmednagar', 100, 23.6, 'engineer', 'pune']\n"
     ]
    }
   ],
   "source": [
    "list1.append(\"pune\")\n",
    "print(list1)"
   ]
  },
  {
   "cell_type": "code",
   "execution_count": 7,
   "metadata": {},
   "outputs": [
    {
     "name": "stdout",
     "output_type": "stream",
     "text": [
      "listt  :  ['pune', 'Ahmednagar', 100, 23.6, 'engineer', 'pune']\n",
      "copy_list : ['pune', 'Ahmednagar', 100, 23.6, 'engineer', 'pune']\n"
     ]
    }
   ],
   "source": [
    "list2=list1.copy()\n",
    "print(\"listt  :  {}\".format(list1))\n",
    "print(\"copy_list : {}\".format(list2))"
   ]
  },
  {
   "cell_type": "code",
   "execution_count": 8,
   "metadata": {},
   "outputs": [
    {
     "name": "stdout",
     "output_type": "stream",
     "text": [
      "Number of elements in listt is  :  2\n"
     ]
    }
   ],
   "source": [
    "#counting number of occurances of pune\n",
    "list_count=list1.count(\"pune\")\n",
    "print(\"Number of elements in listt is  :  {}\".format(list_count))"
   ]
  },
  {
   "cell_type": "code",
   "execution_count": 9,
   "metadata": {},
   "outputs": [
    {
     "name": "stdout",
     "output_type": "stream",
     "text": [
      "['pune', 'Ahmednagar', 100, 23.6, 'engineer', 'pune', 'Chennai', 3, 65]\n"
     ]
    }
   ],
   "source": [
    "list1.extend(list3)\n",
    "print(list1)"
   ]
  },
  {
   "cell_type": "code",
   "execution_count": 15,
   "metadata": {},
   "outputs": [
    {
     "name": "stdout",
     "output_type": "stream",
     "text": [
      "1\n",
      "0\n",
      "6\n",
      "3\n"
     ]
    }
   ],
   "source": [
    "#Using \"index\" function . . .\n",
    "\n",
    "print(\"{}\".format(list1.index(\"Ahmednagar\")))\n",
    "print(\"{}\".format(list1.index(\"pune\")))\n",
    "print(\"{}\".format(list1.index(\"Chennai\")))\n",
    "print(\"{}\".format(list1.index(23.6)))"
   ]
  },
  {
   "cell_type": "code",
   "execution_count": 20,
   "metadata": {},
   "outputs": [
    {
     "name": "stdout",
     "output_type": "stream",
     "text": [
      "['Chennai', 3, 65, '404 error', '404 error']\n"
     ]
    }
   ],
   "source": [
    "#Using \"insert\" function . . .\n",
    "\n",
    "list3.insert(3,\"404 error\")\n",
    "print(list3)"
   ]
  },
  {
   "cell_type": "code",
   "execution_count": 23,
   "metadata": {},
   "outputs": [
    {
     "name": "stdout",
     "output_type": "stream",
     "text": [
      "['pune', 'Ahmednagar', 100, '404 error', '404 error', 23.6, 'engineer', 'pune', 'Chennai', 3]\n",
      "['pune', 'Ahmednagar', 100, '404 error', '404 error', 23.6, 'engineer', 'pune', 'Chennai']\n"
     ]
    }
   ],
   "source": [
    "print(\"list3 Before pop  :  {}\".format(list3))\n",
    "list3.pop()\n",
    "print(\"list3 After pop  :  {}\".format(list3))"
   ]
  },
  {
   "cell_type": "code",
   "execution_count": null,
   "metadata": {},
   "outputs": [],
   "source": []
  },
  {
   "cell_type": "code",
   "execution_count": null,
   "metadata": {},
   "outputs": [],
   "source": []
  },
  {
   "cell_type": "code",
   "execution_count": null,
   "metadata": {},
   "outputs": [],
   "source": []
  },
  {
   "cell_type": "code",
   "execution_count": null,
   "metadata": {},
   "outputs": [],
   "source": [
    "listt.clear()\n",
    "print(listt)"
   ]
  }
 ],
 "metadata": {
  "kernelspec": {
   "display_name": "Python 3",
   "language": "python",
   "name": "python3"
  },
  "language_info": {
   "codemirror_mode": {
    "name": "ipython",
    "version": 3
   },
   "file_extension": ".py",
   "mimetype": "text/x-python",
   "name": "python",
   "nbconvert_exporter": "python",
   "pygments_lexer": "ipython3",
   "version": "3.7.4"
  }
 },
 "nbformat": 4,
 "nbformat_minor": 2
}
