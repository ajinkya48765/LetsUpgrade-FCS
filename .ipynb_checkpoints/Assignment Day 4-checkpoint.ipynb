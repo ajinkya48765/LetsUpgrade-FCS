{
 "cells": [
  {
   "cell_type": "markdown",
   "metadata": {},
   "source": [
    "# Finding ordered sublist in the list . . ."
   ]
  },
  {
   "cell_type": "code",
   "execution_count": null,
   "metadata": {},
   "outputs": [],
   "source": [
    "def findf1(ilist):\n",
    "    for i in range(6):\n",
    "        if(ilist[i]==\"1\"):\n",
    "            finds1(ilist,i)\n",
    "            break\n",
    "        elif(i==5):\n",
    "            print(\"Not found !\")\n",
    "def finds1(ilist, j):\n",
    "    for i in range(j+1,7):\n",
    "        if(ilist[i]==\"1\"):\n",
    "            find5(ilist,i)\n",
    "            break\n",
    "        elif(i==6):\n",
    "            print(\"Not found !\")\n",
    "def find5(ilist, j):\n",
    "    a=0\n",
    "    for i in range(j+1,8):\n",
    "        if(a==1):\n",
    "            break\n",
    "        if(ilist[i]==\"5\"):\n",
    "            print(\"match found\")\n",
    "            a=1\n",
    "        elif(i==7):\n",
    "            print(\"Not found !\")"
   ]
  },
  {
   "cell_type": "code",
   "execution_count": null,
   "metadata": {},
   "outputs": [],
   "source": [
    "ilist = [0,0,0,0,0,0,0,0]"
   ]
  },
  {
   "cell_type": "code",
   "execution_count": null,
   "metadata": {},
   "outputs": [],
   "source": [
    "print(\"Enter values of list  :  \")\n",
    "for i in range(8):\n",
    "    ilist[i] = input()"
   ]
  },
  {
   "cell_type": "code",
   "execution_count": null,
   "metadata": {},
   "outputs": [],
   "source": [
    "findf1(ilist)"
   ]
  }
 ],
 "metadata": {
  "kernelspec": {
   "display_name": "Python 3",
   "language": "python",
   "name": "python3"
  },
  "language_info": {
   "codemirror_mode": {
    "name": "ipython",
    "version": 3
   },
   "file_extension": ".py",
   "mimetype": "text/x-python",
   "name": "python",
   "nbconvert_exporter": "python",
   "pygments_lexer": "ipython3",
   "version": "3.7.4"
  }
 },
 "nbformat": 4,
 "nbformat_minor": 2
}
