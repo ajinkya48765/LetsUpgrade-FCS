{
 "cells": [
  {
   "attachments": {},
   "cell_type": "markdown",
   "metadata": {},
   "source": [
    "# Assignment 1 Day 3"
   ]
  },
  {
   "cell_type": "code",
   "execution_count": null,
   "metadata": {},
   "outputs": [],
   "source": []
  },
  {
   "cell_type": "code",
   "execution_count": 25,
   "metadata": {},
   "outputs": [
    {
     "name": "stdout",
     "output_type": "stream",
     "text": [
      "Enter marks obtained in examination  :   45\n"
     ]
    }
   ],
   "source": [
    "marks = int(input (\"Enter marks obtained in examination  :   \"))"
   ]
  },
  {
   "cell_type": "code",
   "execution_count": 26,
   "metadata": {},
   "outputs": [
    {
     "name": "stdout",
     "output_type": "stream",
     "text": [
      "Grade : D\n"
     ]
    }
   ],
   "source": [
    "if(marks<35):\n",
    "    print(\"Fail\")\n",
    "elif(marks<=50 and marks>=35):\n",
    "    print(\"Grade : D\")\n",
    "elif(marks<=70 and marks>50):\n",
    "    print(\"Grade : C\")\n",
    "elif(marks<=85 and marks>70):\n",
    "    print(\"Grade : B\")\n",
    "else:\n",
    "    print(\"Grade : A\")"
   ]
  },
  {
   "cell_type": "code",
   "execution_count": null,
   "metadata": {},
   "outputs": [],
   "source": []
  },
  {
   "cell_type": "markdown",
   "metadata": {},
   "source": [
    " # Assignment 2 Day 3"
   ]
  },
  {
   "cell_type": "code",
   "execution_count": null,
   "metadata": {},
   "outputs": [],
   "source": []
  },
  {
   "cell_type": "code",
   "execution_count": 69,
   "metadata": {},
   "outputs": [
    {
     "name": "stdout",
     "output_type": "stream",
     "text": [
      "240\n"
     ]
    }
   ],
   "source": [
    "import random\n",
    "rscore=random.randint(1,250)\n",
    "rscore=rscore-10"
   ]
  },
  {
   "cell_type": "code",
   "execution_count": 76,
   "metadata": {},
   "outputs": [
    {
     "name": "stdout",
     "output_type": "stream",
     "text": [
      "Predict the score   :   230\n"
     ]
    }
   ],
   "source": [
    "score=int(input(\"Predict the score   :   \"))"
   ]
  },
  {
   "cell_type": "code",
   "execution_count": 77,
   "metadata": {},
   "outputs": [
    {
     "name": "stdout",
     "output_type": "stream",
     "text": [
      "So close !!! you are true cricket fan\n"
     ]
    }
   ],
   "source": [
    "if(score<0 or score>250):\n",
    "    print(\"Think again !!! and predict your score for 20-20\")\n",
    "elif(score>=rscore and score<=rscore+20):\n",
    "    print(\"So close !!! you are true cricket fan\")\n",
    "else:\n",
    "    print(\"I guess you are not interested in cricket\")"
   ]
  },
  {
   "cell_type": "code",
   "execution_count": null,
   "metadata": {},
   "outputs": [],
   "source": []
  }
 ],
 "metadata": {
  "kernelspec": {
   "display_name": "Python 3",
   "language": "python",
   "name": "python3"
  },
  "language_info": {
   "codemirror_mode": {
    "name": "ipython",
    "version": 3
   },
   "file_extension": ".py",
   "mimetype": "text/x-python",
   "name": "python",
   "nbconvert_exporter": "python",
   "pygments_lexer": "ipython3",
   "version": "3.7.4"
  }
 },
 "nbformat": 4,
 "nbformat_minor": 2
}
